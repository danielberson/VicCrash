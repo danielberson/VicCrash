{
 "cells": [
  {
   "cell_type": "code",
   "execution_count": null,
   "id": "7781db40-ab4d-45ce-8de3-8ad1ed9b3e56",
   "metadata": {},
   "outputs": [],
   "source": [
    "import pickle\n",
    "import pandas as pd\n",
    "import matplotlib.pyplot as plt\n",
    "import seaborn as sns"
   ]
  },
  {
   "cell_type": "code",
   "execution_count": null,
   "id": "21a32df3-3f37-4b65-8c36-435f14b48413",
   "metadata": {},
   "outputs": [],
   "source": [
    "crash_data = pd.read_pickle('crash_processed_data.pkl')"
   ]
  },
  {
   "cell_type": "code",
   "execution_count": null,
   "id": "8ad4c467-0a5a-43a6-8905-4e4708d6fce0",
   "metadata": {},
   "outputs": [],
   "source": [
    "crash_data.columns"
   ]
  },
  {
   "cell_type": "code",
   "execution_count": null,
   "id": "9a94bcd3-1f94-4769-bad5-aa30243194cb",
   "metadata": {},
   "outputs": [],
   "source": [
    "crash_data['TOTAL_NO_OCCUPANTS'].value_counts()"
   ]
  },
  {
   "cell_type": "markdown",
   "id": "90d9780b-0b5f-452c-8410-22469e7c7353",
   "metadata": {},
   "source": [
    "**Distribution of Accident Severity Across Different Features: Analyzing the Impact of Speed Zones, Road Conditions, and More**"
   ]
  },
  {
   "cell_type": "code",
   "execution_count": null,
   "id": "72fe4df3-777f-417e-b4ef-929b688efa36",
   "metadata": {},
   "outputs": [],
   "source": [
    "# Plot showing the number of unique ACCIDENT_NO for each severity in ascending order with percentage\n",
    "plt.figure(figsize=(8, 6))\n",
    "sns.countplot(data=crash_data, x='SEVERITY', palette='viridis', order=crash_data['SEVERITY'].value_counts().index)\n",
    "plt.title('Number of Unique ACCIDENT_NO for Each Severity (Ordered)')\n",
    "plt.xlabel('Severity')\n",
    "plt.ylabel('Count of Unique ACCIDENT_NO')\n",
    "plt.xticks(rotation=45)\n",
    "\n",
    "# Calculate and display percentage distribution\n",
    "total_records = len(crash_data)\n",
    "ax = plt.gca()\n",
    "for p in ax.patches:\n",
    "    percentage = '{:.1f}%'.format(100 * p.get_height() / total_records)\n",
    "    x = p.get_x() + p.get_width() / 2 - 0.1\n",
    "    y = p.get_y() + p.get_height()\n",
    "    ax.annotate(percentage, (x, y), fontsize=10, ha='center')\n",
    "\n",
    "plt.show()\n"
   ]
  },
  {
   "cell_type": "code",
   "execution_count": null,
   "id": "fb18d809-0233-426a-a138-5b0097956efd",
   "metadata": {},
   "outputs": [],
   "source": [
    "\n",
    "# Group the data by 'SPEED_ZONE' and calculate the percentage distribution of each severity level within each speed zone\n",
    "percentage_by_speed_zone = crash_data.groupby(['SPEED_ZONE', 'SEVERITY']).size().unstack(fill_value=0)\n",
    "percentage_by_speed_zone = percentage_by_speed_zone.div(percentage_by_speed_zone.sum(axis=1), axis=0) * 100\n",
    "\n",
    "# Create a bar plot\n",
    "plt.figure(figsize=(12, 8))\n",
    "percentage_by_speed_zone.plot(kind='bar', stacked=True, cmap='viridis', figsize=(12, 8))\n",
    "plt.title('Percentage Distribution of Severity for Each Speed Zone (Ordered)')\n",
    "plt.xlabel('SPEED_ZONE')\n",
    "plt.ylabel('Percentage')\n",
    "plt.xticks(rotation=90)\n",
    "plt.legend(title='Severity', loc='upper right', bbox_to_anchor=(1.15, 1))\n",
    "\n",
    "# Annotate the percentages\n",
    "ax = plt.gca()\n",
    "for p in ax.patches:\n",
    "    x = p.get_x() + p.get_width() / 2 - 0.1\n",
    "    y = p.get_height()\n",
    "    ax.annotate(f'{y:.1f}%', (x, y), fontsize=10, ha='center')\n",
    "\n",
    "plt.show()\n"
   ]
  },
  {
   "cell_type": "markdown",
   "id": "fb5ba0aa-982d-4943-b787-8b720ca0262c",
   "metadata": {},
   "source": [
    "As Speed Zone gets Faster, The Distribution of Severity becomes more skewed towards 1,2. Speed is definitely a telling factor for severity"
   ]
  },
  {
   "cell_type": "code",
   "execution_count": null,
   "id": "ed6f85e9-1752-4d45-a4d5-6277383b3356",
   "metadata": {},
   "outputs": [],
   "source": [
    "\n",
    "# Create age bands in 10-year increments.\n",
    "crash_data['AGE_BAND'] = pd.cut(crash_data['AGE'], bins=range(0, 120, 10), right=False)\n",
    "\n",
    "# Group the data by 'AGE_BAND' and 'SEVERITY', and calculate the percentage distribution of each severity level within each age band\n",
    "percentage_by_age_band = crash_data.groupby(['AGE_BAND', 'SEVERITY']).size().unstack(fill_value=0)\n",
    "percentage_by_age_band = percentage_by_age_band.div(percentage_by_age_band.sum(axis=1), axis=0) * 100\n",
    "\n",
    "# Create a bar plot\n",
    "plt.figure(figsize=(12, 8))\n",
    "percentage_by_age_band.plot(kind='bar', stacked=True, cmap='viridis', figsize=(12, 8))\n",
    "plt.title('Percentage Distribution of Severity for Each Age Band')\n",
    "plt.xlabel('Age Band')\n",
    "plt.ylabel('Percentage')\n",
    "plt.xticks(rotation=45)\n",
    "plt.legend(title='Severity', loc='upper right', bbox_to_anchor=(1.15, 1))\n",
    "\n",
    "# Annotate the percentages\n",
    "ax = plt.gca()\n",
    "for p in ax.patches:\n",
    "    x = p.get_x() + p.get_width() / 2 - 0.1\n",
    "    y = p.get_height()\n",
    "    ax.annotate(f'{y:.1f}%', (x, y), fontsize=10, ha='center')\n",
    "\n",
    "plt.show()\n"
   ]
  },
  {
   "cell_type": "markdown",
   "id": "da06e81c-2c74-444a-9434-26193e16c4bc",
   "metadata": {},
   "source": [
    "Seems to be a positive correlation between age and severity (older people involved in more severe crashes)"
   ]
  },
  {
   "cell_type": "code",
   "execution_count": null,
   "id": "fa6178a6-a5e0-490a-8e61-33e5e896c1af",
   "metadata": {},
   "outputs": [],
   "source": [
    "# Group the data by 'Light Condition Desc' and 'SEVERITY', and calculate the percentage distribution of each severity level within each light condition\n",
    "percentage_by_light_condition = crash_data.groupby(['Light Condition Desc', 'SEVERITY']).size().unstack(fill_value=0)\n",
    "percentage_by_light_condition = percentage_by_light_condition.div(percentage_by_light_condition.sum(axis=1), axis=0) * 100\n",
    "\n",
    "# Create a bar plot\n",
    "plt.figure(figsize=(12, 8))\n",
    "percentage_by_light_condition.plot(kind='bar', stacked=True, cmap='viridis', figsize=(12, 8))\n",
    "plt.title('Percentage Distribution of Severity for Each Light Condition')\n",
    "plt.xlabel('Light Condition Desc')\n",
    "plt.ylabel('Percentage')\n",
    "plt.xticks(rotation=45)\n",
    "plt.legend(title='Severity', loc='upper right', bbox_to_anchor=(1.15, 1))\n",
    "\n",
    "# Annotate the percentages\n",
    "ax = plt.gca()\n",
    "for p in ax.patches:\n",
    "    x = p.get_x() + p.get_width() / 2 - 0.1\n",
    "    y = p.get_height()\n",
    "    ax.annotate(f'{y:.1f}%', (x, y), fontsize=10, ha='center')\n",
    "\n",
    "plt.show()\n"
   ]
  },
  {
   "cell_type": "markdown",
   "id": "bfa5b99f-bec2-4205-999c-2ead05cf37d8",
   "metadata": {},
   "source": [
    "Dark and No Street Lights most Dangerous, followed by Dark Street Lights off"
   ]
  },
  {
   "cell_type": "code",
   "execution_count": null,
   "id": "b63afe6f-8262-4649-97d5-05da8a3d018e",
   "metadata": {},
   "outputs": [],
   "source": [
    "import pandas as pd\n",
    "import matplotlib.pyplot as plt\n",
    "import seaborn as sns\n",
    "\n",
    "# Assuming your data is loaded into a DataFrame named 'crash_data'\n",
    "\n",
    "# Define custom bins and labels\n",
    "bins = [-1, 0, 1, 2, 3, 4, 5, 10, float('inf')]\n",
    "labels = ['0', '1', '2', '3', '4', '5', '6-10', '10+']\n",
    "\n",
    "# Create a new column 'OCCUPANTS_RANGE' with the specified labels based on 'TOTAL_NO_OCCUPANTS'\n",
    "crash_data['OCCUPANTS_RANGE'] = pd.cut(crash_data['TOTAL_NO_OCCUPANTS'], bins=bins, labels=labels, right=False)\n",
    "\n",
    "# Group the data by 'OCCUPANTS_RANGE' and 'SEVERITY', and calculate the percentage distribution of each severity level within each range\n",
    "percentage_by_occupants_range = crash_data.groupby(['OCCUPANTS_RANGE', 'SEVERITY']).size().unstack(fill_value=0)\n",
    "percentage_by_occupants_range = percentage_by_occupants_range.div(percentage_by_occupants_range.sum(axis=1), axis=0) * 100\n",
    "\n",
    "# Create a bar plot\n",
    "plt.figure(figsize=(12, 8))\n",
    "percentage_by_occupants_range.plot(kind='bar', stacked=True, cmap='viridis', figsize=(12, 8))\n",
    "plt.title('Percentage Distribution of Severity for Each Occupants Range')\n",
    "plt.xlabel('Occupants Range')\n",
    "plt.ylabel('Percentage')\n",
    "plt.xticks(rotation=0)\n",
    "plt.legend(title='Severity', loc='upper right', bbox_to_anchor=(1.15, 1))\n",
    "\n",
    "# Annotate the percentages\n",
    "ax = plt.gca()\n",
    "for p in ax.patches:\n",
    "    x = p.get_x() + p.get_width() / 2 - 0.1\n",
    "    y = p.get_height()\n",
    "    ax.annotate(f'{y:.1f}%', (x, y), fontsize=10, ha='center')\n",
    "\n",
    "plt.show()\n"
   ]
  },
  {
   "cell_type": "markdown",
   "id": "1dcb1711-32d8-4996-8b85-337b03292f58",
   "metadata": {},
   "source": [
    "More Occupants seems to be linked to more severe crashes (severity 1)"
   ]
  },
  {
   "cell_type": "code",
   "execution_count": null,
   "id": "aa0603fa-4ac6-4655-b607-e8f0e6d0ea99",
   "metadata": {},
   "outputs": [],
   "source": [
    "# Group the data by 'Road Geometry Desc' and 'SEVERITY', and calculate the percentage distribution of each severity level within each category\n",
    "percentage_by_road_geometry = crash_data.groupby(['Road Geometry Desc', 'SEVERITY']).size().unstack(fill_value=0)\n",
    "percentage_by_road_geometry = percentage_by_road_geometry.div(percentage_by_road_geometry.sum(axis=1), axis=0) * 100\n",
    "\n",
    "# Create a bar plot\n",
    "plt.figure(figsize=(12, 8))\n",
    "percentage_by_road_geometry.plot(kind='bar', stacked=True, cmap='viridis', figsize=(12, 8))\n",
    "plt.title('Percentage Distribution of Severity for Each Road Geometry Desc')\n",
    "plt.xlabel('Road Geometry Desc')\n",
    "plt.ylabel('Percentage')\n",
    "plt.xticks(rotation=45)\n",
    "plt.legend(title='Severity', loc='upper right', bbox_to_anchor=(1.15, 1))\n",
    "\n",
    "# Annotate the percentages\n",
    "ax = plt.gca()\n",
    "for p in ax.patches:\n",
    "    x = p.get_x() + p.get_width() / 2 - 0.1\n",
    "    y = p.get_height()\n",
    "    ax.annotate(f'{y:.1f}%', (x, y), fontsize=10, ha='center')\n",
    "\n",
    "plt.show()"
   ]
  },
  {
   "cell_type": "code",
   "execution_count": null,
   "id": "ceb07a81-db54-4d02-b064-688756e8a0e6",
   "metadata": {},
   "outputs": [],
   "source": [
    "#note only 5 private property incidents and 8 road closures\n",
    "crash_data['Road Geometry Desc'].value_counts()"
   ]
  },
  {
   "cell_type": "markdown",
   "id": "31083367-ef30-4acf-9cbb-6a57a3272956",
   "metadata": {},
   "source": [
    "Unclear if Road Geometry plays a big factor"
   ]
  },
  {
   "cell_type": "code",
   "execution_count": null,
   "id": "509e4769-7f2a-401b-9fa0-0f265116724d",
   "metadata": {},
   "outputs": [],
   "source": [
    "# Group the data by 'Road Geometry Desc' and 'SEVERITY', and calculate the percentage distribution of each severity level within each category\n",
    "percentage_by_road_condition = crash_data.groupby(['Surface Cond Desc', 'SEVERITY']).size().unstack(fill_value=0)\n",
    "percentage_by_road_condition = percentage_by_road_condition.div(percentage_by_road_condition.sum(axis=1), axis=0) * 100\n",
    "\n",
    "# Create a bar plot\n",
    "plt.figure(figsize=(12, 8))\n",
    "percentage_by_road_condition.plot(kind='bar', stacked=True, cmap='viridis', figsize=(12, 8))\n",
    "plt.title('Percentage Distribution of Severity for Each Road Surface Condition')\n",
    "plt.xlabel('Road Condition Desc')\n",
    "plt.ylabel('Percentage')\n",
    "plt.xticks(rotation=45)\n",
    "plt.legend(title='Severity', loc='upper right', bbox_to_anchor=(1.15, 1))\n",
    "\n",
    "# Annotate the percentages\n",
    "ax = plt.gca()\n",
    "for p in ax.patches:\n",
    "    x = p.get_x() + p.get_width() / 2 - 0.1\n",
    "    y = p.get_height()\n",
    "    ax.annotate(f'{y:.1f}%', (x, y), fontsize=10, ha='center')\n",
    "\n",
    "plt.show()"
   ]
  },
  {
   "cell_type": "code",
   "execution_count": null,
   "id": "2d1af6b9-b05a-4b94-99df-55970c950557",
   "metadata": {},
   "outputs": [],
   "source": [
    "crash_data['Surface Cond Desc'].value_counts()"
   ]
  },
  {
   "cell_type": "code",
   "execution_count": null,
   "id": "c2429865-da0a-494e-b37d-1f597a189d74",
   "metadata": {},
   "outputs": [],
   "source": []
  },
  {
   "cell_type": "markdown",
   "id": "6900b8c0-b79f-4609-ab0a-a449e6e8d4d0",
   "metadata": {},
   "source": [
    "Surpsingly looks like surface condition has little impact on severity of crash"
   ]
  },
  {
   "cell_type": "code",
   "execution_count": null,
   "id": "ab2f41e5-c2d6-4f1f-831c-371d6e95a3c6",
   "metadata": {},
   "outputs": [],
   "source": [
    "crash_data['VEHICLE_YEARS_OLD'].value_counts()"
   ]
  },
  {
   "cell_type": "code",
   "execution_count": null,
   "id": "fe896423-6fdf-4140-82bb-cd8ddaad0325",
   "metadata": {},
   "outputs": [],
   "source": [
    "\n",
    "bins = [0, 5, 10, 15, 20, 25, 50, 75, float('inf')]\n",
    "labels = ['0-5', '5-10', '10-15', '15-20', '20-25', '25-50', '50-75', '75+']\n",
    "crash_data['VEHICLE_AGE_RANGE'] = pd.cut(crash_data['VEHICLE_YEARS_OLD'], bins=bins, labels=labels, right=False)\n",
    "\n",
    "# Group the data by 'VEHICLE_AGE_RANGE' and 'SEVERITY', and calculate the percentage distribution of each severity level within each category\n",
    "percentage_by_vehicle_age = crash_data.groupby(['VEHICLE_AGE_RANGE', 'SEVERITY']).size().unstack(fill_value=0)\n",
    "percentage_by_vehicle_age = percentage_by_vehicle_age.div(percentage_by_vehicle_age.sum(axis=1), axis=0) * 100\n",
    "\n",
    "# Create a bar plot\n",
    "plt.figure(figsize=(12, 8))\n",
    "ax = percentage_by_vehicle_age.plot(kind='bar', stacked=True, cmap='viridis', figsize=(12, 8))\n",
    "plt.title('Percentage Distribution of Severity for Each Vehicle Age Range')\n",
    "plt.xlabel('Vehicle Age Range')\n",
    "plt.ylabel('Percentage')\n",
    "plt.xticks(rotation=0)\n",
    "plt.legend(title='Severity', loc='upper right', bbox_to_anchor=(1.15, 1))\n",
    "\n",
    "# Annotate the percentages and counts\n",
    "for p in ax.patches:\n",
    "    x = p.get_x() + p.get_width() / 2 - 0.1\n",
    "    y = p.get_height()\n",
    "    ax.annotate(f'{y:.1f}%', (x, y), fontsize=10, ha='center', va='bottom')\n",
    "plt.show()\n"
   ]
  },
  {
   "cell_type": "markdown",
   "id": "a7a58016-95d8-4daa-b686-db9261c562f4",
   "metadata": {},
   "source": [
    "Older vehicles tend to have more severe crashes"
   ]
  },
  {
   "cell_type": "code",
   "execution_count": null,
   "id": "1573ca7e-188c-4608-809e-70e05a4cbee0",
   "metadata": {},
   "outputs": [],
   "source": [
    "percentage_by_sex = crash_data.groupby(['SEX', 'SEVERITY']).size().unstack(fill_value=0)\n",
    "percentage_by_sex = percentage_by_sex.div(percentage_by_sex.sum(axis=1), axis=0) * 100\n",
    "\n",
    "# Create a bar plot\n",
    "plt.figure(figsize=(8, 6))\n",
    "ax = percentage_by_sex.plot(kind='bar', stacked=True, cmap='viridis', figsize=(8, 6))\n",
    "plt.title('Percentage Distribution of Severity by Gender')\n",
    "plt.xlabel('Gender')\n",
    "plt.ylabel('Percentage')\n",
    "plt.xticks(rotation=0)\n",
    "\n",
    "# Annotate the percentages correctly\n",
    "for p in ax.patches:\n",
    "    x = p.get_x() + p.get_width() / 2\n",
    "    y = p.get_height()\n",
    "    ax.annotate(f'{y:.1f}%', (x, y), fontsize=10, ha='center', va='bottom')\n",
    "\n",
    "# Remove the legend\n",
    "ax.get_legend().remove()\n",
    "\n",
    "plt.show()"
   ]
  },
  {
   "cell_type": "markdown",
   "id": "205191fe-b45f-41b5-8e53-1b41d65439c2",
   "metadata": {},
   "source": [
    "Males tend to be in more severe accidents than females"
   ]
  },
  {
   "cell_type": "code",
   "execution_count": null,
   "id": "cde5a70d-8236-4825-ab4b-a2ac197cbcd7",
   "metadata": {},
   "outputs": [],
   "source": [
    "percentage_by_lamps = crash_data.groupby(['LAMPS', 'SEVERITY']).size().unstack(fill_value=0)\n",
    "percentage_by_lamps = percentage_by_lamps.div(percentage_by_lamps.sum(axis=1), axis=0) * 100\n",
    "\n",
    "# Create a bar plot\n",
    "plt.figure(figsize=(8, 6))\n",
    "ax = percentage_by_lamps.plot(kind='bar', stacked=True, cmap='viridis', figsize=(8, 6))\n",
    "plt.title('Percentage Distribution of Severity by LAMPS')\n",
    "plt.xlabel('LAMPS')\n",
    "plt.ylabel('Percentage')\n",
    "plt.xticks(rotation=0)\n",
    "\n",
    "# Annotate the percentages correctly\n",
    "for p in ax.patches:\n",
    "    x = p.get_x() + p.get_width() / 2\n",
    "    y = p.get_height()\n",
    "    ax.annotate(f'{y:.1f}%', (x, y), fontsize=10, ha='center', va='bottom')\n",
    "\n",
    "# Remove the legend\n",
    "ax.get_legend().remove()\n",
    "\n",
    "plt.show()"
   ]
  },
  {
   "cell_type": "markdown",
   "id": "50f54d30-79c5-4fa1-a0ed-fc44327e6b66",
   "metadata": {},
   "source": [
    "May be useful, may be junk data with 9 lamps but 1 lamp seems more dangeous than 2, not sure what 0 lamps means no working headlights"
   ]
  },
  {
   "cell_type": "code",
   "execution_count": null,
   "id": "447d1ef1-e8e9-45a5-a252-7d08ec896197",
   "metadata": {},
   "outputs": [],
   "source": [
    "crash_data['LAMPS'].value_counts()"
   ]
  },
  {
   "cell_type": "code",
   "execution_count": null,
   "id": "d73ec683-899c-474d-a7d5-d7d4bc08ed03",
   "metadata": {},
   "outputs": [],
   "source": [
    "percentage_by_helmet_belt = crash_data.groupby(['HELMET_BELT_WORN', 'SEVERITY']).size().unstack(fill_value=0)\n",
    "percentage_by_helmet_belt = percentage_by_helmet_belt.div(percentage_by_helmet_belt.sum(axis=1), axis=0) * 100\n",
    "\n",
    "# Create a bar plot\n",
    "plt.figure(figsize=(8, 6))\n",
    "ax = percentage_by_helmet_belt.plot(kind='bar', stacked=True, cmap='viridis', figsize=(8, 6))\n",
    "plt.title('Percentage Distribution of Severity by Helmet/Belt Usage')\n",
    "plt.xlabel('Helmet/Belt Usage')\n",
    "plt.ylabel('Percentage')\n",
    "plt.xticks(rotation=0)\n",
    "\n",
    "# Annotate the percentages correctly\n",
    "for p in ax.patches:\n",
    "    x = p.get_x() + p.get_width() / 2\n",
    "    y = p.get_height()\n",
    "    ax.annotate(f'{y:.1f}%', (x, y), fontsize=10, ha='center', va='bottom')\n",
    "\n",
    "# Remove the legend\n",
    "ax.get_legend().remove()\n",
    "\n",
    "plt.show()"
   ]
  },
  {
   "cell_type": "code",
   "execution_count": null,
   "id": "2a729f16-794f-4656-a5f5-9191c0196e39",
   "metadata": {},
   "outputs": [],
   "source": [
    "numerical_columns = crash_data.select_dtypes(include=['number'])\n",
    "\n",
    "# Compute the correlation matrix\n",
    "numerical_corr = numerical_columns.corr()\n",
    "\n",
    "\n",
    "\n",
    "plt.figure(figsize=(12, 8))\n",
    "sns.heatmap(numerical_corr, annot=True, cmap='coolwarm', fmt=\".2f\", linewidths=0.5)\n",
    "plt.title('Correlation Matrix for Numerical Variables')\n",
    "plt.show()"
   ]
  },
  {
   "cell_type": "code",
   "execution_count": null,
   "id": "72e52021-c6ce-4250-abd3-d3a00c2e5fd2",
   "metadata": {},
   "outputs": [],
   "source": [
    "crash_data.isna().sum()"
   ]
  },
  {
   "cell_type": "code",
   "execution_count": null,
   "id": "3abec87e-4857-4e26-b03d-b33ff6f8f793",
   "metadata": {},
   "outputs": [],
   "source": [
    "crash_data = crash_data[~crash_data['TOTAL_NO_OCCUPANTS'].isna()]"
   ]
  },
  {
   "cell_type": "code",
   "execution_count": null,
   "id": "9e7b6ba6-3015-4fea-bc22-8a66adf0d484",
   "metadata": {},
   "outputs": [],
   "source": [
    "crash_data.to_pickle('clean_crash_data.pkl')\n"
   ]
  },
  {
   "cell_type": "code",
   "execution_count": null,
   "id": "4517856c-9db7-4824-b7a9-4a134315afae",
   "metadata": {},
   "outputs": [],
   "source": []
  }
 ],
 "metadata": {
  "kernelspec": {
   "display_name": "Python 3 (ipykernel)",
   "language": "python",
   "name": "python3"
  },
  "language_info": {
   "codemirror_mode": {
    "name": "ipython",
    "version": 3
   },
   "file_extension": ".py",
   "mimetype": "text/x-python",
   "name": "python",
   "nbconvert_exporter": "python",
   "pygments_lexer": "ipython3",
   "version": "3.11.4"
  }
 },
 "nbformat": 4,
 "nbformat_minor": 5
}
