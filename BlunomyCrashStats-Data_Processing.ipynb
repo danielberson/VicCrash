{
 "cells": [
  {
   "cell_type": "code",
   "execution_count": null,
   "id": "679f852c-51ed-4c02-88c4-4877327ae6e6",
   "metadata": {},
   "outputs": [],
   "source": [
    "!pip install pandas\n",
    "!pip install matplotlib\n",
    "!pip install seaborn\n"
   ]
  },
  {
   "cell_type": "markdown",
   "id": "413f117f-2451-4693-90ff-f9fce23ea013",
   "metadata": {},
   "source": [
    "**PREDICTING ACCIDENT SEVERITY**"
   ]
  },
  {
   "cell_type": "code",
   "execution_count": null,
   "id": "1a4ce05d-1a3e-41ba-87d2-fc017b901fb7",
   "metadata": {},
   "outputs": [],
   "source": [
    "import pickle\n",
    "import pandas as pd\n"
   ]
  },
  {
   "cell_type": "markdown",
   "id": "7b452b93-6a75-427a-86df-4fb8db9d1627",
   "metadata": {},
   "source": [
    "Reading in Data"
   ]
  },
  {
   "cell_type": "code",
   "execution_count": null,
   "id": "92c6f257-374d-4ffc-a0f6-994d48953df3",
   "metadata": {},
   "outputs": [],
   "source": [
    "accident_chain = pd.read_csv('ACCIDENT_CHAINAGE.csv')\n",
    "accident_event =  pd.read_csv('ACCIDENT_EVENT.csv')\n",
    "accident_location = pd.read_csv('ACCIDENT_LOCATION.csv')\n",
    "accident = pd.read_csv('ACCIDENT.csv')\n",
    "node_id_complex_int_id = pd.read_csv('NODE_ID_COMPLEX_INT_ID.csv')\n",
    "node = pd.read_csv('NODE.csv')\n",
    "person = pd.read_csv('PERSON.csv')\n",
    "road_surface = pd.read_csv('ROAD_SURFACE_COND.csv')\n",
    "subdca = pd.read_csv('SUBDCA.csv')\n",
    "vehicle = pd.read_csv('VEHICLE.csv')"
   ]
  },
  {
   "cell_type": "code",
   "execution_count": null,
   "id": "61a04f27-530a-4899-82dc-22db4219533e",
   "metadata": {},
   "outputs": [],
   "source": [
    "accident"
   ]
  },
  {
   "cell_type": "code",
   "execution_count": null,
   "id": "f4ea1a0a-98fb-497e-9011-67d32a97ddb8",
   "metadata": {},
   "outputs": [],
   "source": [
    "#look at features\n",
    "accident.columns"
   ]
  },
  {
   "cell_type": "markdown",
   "id": "0e870014-3f09-472b-a10f-1696e39f800f",
   "metadata": {},
   "source": [
    "Only interested in Factors we can control and know before the crash e.g. Speed important but type of Accident not as it is only known after the fact"
   ]
  },
  {
   "cell_type": "code",
   "execution_count": null,
   "id": "6e942ed1-784c-49c0-bd03-4e7d9e39b50f",
   "metadata": {},
   "outputs": [],
   "source": [
    "accident['SPEED_ZONE'].value_counts()"
   ]
  },
  {
   "cell_type": "code",
   "execution_count": null,
   "id": "7c857e57-38a5-4411-b086-9a4e8ca2ffde",
   "metadata": {},
   "outputs": [],
   "source": [
    "accident['Day Week Description'].value_counts()"
   ]
  },
  {
   "cell_type": "code",
   "execution_count": null,
   "id": "ccaa6396-7bb0-4215-9681-9cbef601ce96",
   "metadata": {},
   "outputs": [],
   "source": [
    "accident['Light Condition Desc'].value_counts()"
   ]
  },
  {
   "cell_type": "code",
   "execution_count": null,
   "id": "98a62ef1-ebd6-46e5-b65c-f061fba0f435",
   "metadata": {},
   "outputs": [],
   "source": [
    "accident['Road Geometry Desc'].value_counts()"
   ]
  },
  {
   "cell_type": "code",
   "execution_count": null,
   "id": "95504228-8af0-4bd8-8d05-166d5d196e26",
   "metadata": {},
   "outputs": [],
   "source": [
    "accident['SEVERITY'].value_counts()"
   ]
  },
  {
   "cell_type": "code",
   "execution_count": null,
   "id": "8dc76b18-841f-4ae6-aa73-4be929efa4f5",
   "metadata": {},
   "outputs": [],
   "source": [
    "# 1 is most severe and 4 is least severt\n",
    "accident.loc[accident['SEVERITY']==1]"
   ]
  },
  {
   "cell_type": "code",
   "execution_count": null,
   "id": "3b5c1ee3-ce8b-4332-bc95-f28b8c615aff",
   "metadata": {},
   "outputs": [],
   "source": [
    "#speed will be a determining factor so for all speeds greater than 110, remove the row\n",
    "accident_filtered = accident[accident['SPEED_ZONE'] <= 110]\n"
   ]
  },
  {
   "cell_type": "code",
   "execution_count": null,
   "id": "5212cdfb-d275-4028-8603-23dd813c0b3b",
   "metadata": {},
   "outputs": [],
   "source": [
    "type(person['SEATING_POSITION'][3]),person['SEATING_POSITION'][3]"
   ]
  },
  {
   "cell_type": "code",
   "execution_count": null,
   "id": "af9e13bf-35b3-4525-9034-8e4639874e85",
   "metadata": {},
   "outputs": [],
   "source": [
    "person.columns"
   ]
  },
  {
   "cell_type": "code",
   "execution_count": null,
   "id": "ce76421f-08ac-437c-9fdc-c4bd47402217",
   "metadata": {},
   "outputs": [],
   "source": [
    "#interested in the driver as we will see if age/sex have any impact on severity of collission\n",
    "drivers = person[person['SEATING_POSITION'] == 'D ']\n",
    "drivers = drivers[['ACCIDENT_NO','SEX','AGE','HELMET_BELT_WORN']]"
   ]
  },
  {
   "cell_type": "code",
   "execution_count": null,
   "id": "c42dcf87-9238-4f60-baef-b6c1dc39e0cd",
   "metadata": {},
   "outputs": [],
   "source": [
    "drivers['HELMET_BELT_WORN'].value_counts()"
   ]
  },
  {
   "cell_type": "code",
   "execution_count": null,
   "id": "5e28ce2b-a7b8-41a7-ad9e-1bc35b40b9c4",
   "metadata": {},
   "outputs": [],
   "source": [
    "drivers['HELMET_BELT_WORN'] = drivers['HELMET_BELT_WORN'].astype(int)"
   ]
  },
  {
   "cell_type": "code",
   "execution_count": null,
   "id": "a801dbbe-28a0-4b4a-865c-ece99a29624d",
   "metadata": {},
   "outputs": [],
   "source": [
    "drivers['HELMET_BELT_WORN'].value_counts()"
   ]
  },
  {
   "cell_type": "code",
   "execution_count": null,
   "id": "ccbac4ae-852a-4e10-b032-c134004f718e",
   "metadata": {},
   "outputs": [],
   "source": [
    "drivers"
   ]
  },
  {
   "cell_type": "code",
   "execution_count": null,
   "id": "ea5cccf3-bbd8-43c3-8014-78c93383a55a",
   "metadata": {},
   "outputs": [],
   "source": [
    "road_surface"
   ]
  },
  {
   "cell_type": "code",
   "execution_count": null,
   "id": "737cb37e-6ca9-439d-9e9c-e9b023d1b6b9",
   "metadata": {},
   "outputs": [],
   "source": [
    "road_surface['Surface Cond Desc'].value_counts()"
   ]
  },
  {
   "cell_type": "code",
   "execution_count": null,
   "id": "17d57e3b-460a-4132-a627-5fdcd89878f7",
   "metadata": {},
   "outputs": [],
   "source": [
    "vehicle.columns"
   ]
  },
  {
   "cell_type": "code",
   "execution_count": null,
   "id": "bf1b5ba1-5d6f-4b5f-8ef3-2b58d7d7162f",
   "metadata": {},
   "outputs": [],
   "source": [
    "vehicle['VEHICLE_YEAR_MANUF'].value_counts()\n",
    "\n",
    "easiest_date = vehicle['VEHICLE_YEAR_MANUF'].min()\n",
    "latest_date = vehicle['VEHICLE_YEAR_MANUF'].max()\n",
    "\n",
    "# Create a Series with the extracted dates\n",
    "manufactured_dates = pd.Series({\n",
    "    'Earliest Date Manufactured': easiest_date,\n",
    "    'Latest Date Manufactured': latest_date\n",
    "})\n",
    "manufactured_dates.name = \"Newest and Oldest Vehicles\"\n",
    "manufactured_dates_df = manufactured_dates.to_frame()\n",
    "\n",
    "# Print the DataFrame with a nice format\n",
    "print(manufactured_dates_df)\n"
   ]
  },
  {
   "cell_type": "code",
   "execution_count": null,
   "id": "3fc4f420-43ef-4a31-a9aa-8608de2deadc",
   "metadata": {},
   "outputs": [],
   "source": [
    "# only keep cars manufactured between 1890 and 2020\n",
    "vehicle_filtered = vehicle[(vehicle['VEHICLE_YEAR_MANUF'] >= 1890) & (vehicle['VEHICLE_YEAR_MANUF'] <= 2020)]\n",
    "#turn year manufactured to be years old (years since 2020)\n",
    "vehicle_filtered['VEHICLE_YEARS_OLD'] = 2020 - vehicle_filtered['VEHICLE_YEAR_MANUF']"
   ]
  },
  {
   "cell_type": "code",
   "execution_count": null,
   "id": "0aed2c3e-2470-4689-9b33-c26490289e35",
   "metadata": {},
   "outputs": [],
   "source": [
    "vehicle_filtered"
   ]
  },
  {
   "cell_type": "code",
   "execution_count": null,
   "id": "4a5bb1e1-09a0-4a60-9dab-bbef8595474b",
   "metadata": {},
   "outputs": [],
   "source": [
    "# Assuming Lamps are number of working headlights\n",
    "vehicle_filtered['LAMPS'].value_counts()\n",
    "vehicle_filtered.loc[vehicle_filtered['LAMPS']==1]"
   ]
  },
  {
   "cell_type": "code",
   "execution_count": null,
   "id": "d78ad694-8638-4e4a-8533-c9fad47e6efe",
   "metadata": {},
   "outputs": [],
   "source": [
    "accident_filtered.columns"
   ]
  },
  {
   "cell_type": "markdown",
   "id": "19792881-0439-4b9f-8d9d-149887fc1484",
   "metadata": {},
   "source": [
    "Before Merging All DataFrames on ACCIDENT_NO, Remove All irrelevant columns to reduce dimensionality of data "
   ]
  },
  {
   "cell_type": "code",
   "execution_count": null,
   "id": "89142a98-206e-47aa-a748-553a9795fb1b",
   "metadata": {},
   "outputs": [],
   "source": [
    "accident_filtered = accident_filtered[['ACCIDENT_NO','ACCIDENTTIME','DAY_OF_WEEK','Day Week Description','LIGHT_CONDITION','Light Condition Desc','ROAD_GEOMETRY','Road Geometry Desc','SEVERITY','SPEED_ZONE']]"
   ]
  },
  {
   "cell_type": "code",
   "execution_count": null,
   "id": "ec9237ce-0141-4116-a199-facf79a9ec59",
   "metadata": {},
   "outputs": [],
   "source": [
    "road_surface.columns"
   ]
  },
  {
   "cell_type": "code",
   "execution_count": null,
   "id": "2b173232-c0fd-4e13-90c0-4462510913d1",
   "metadata": {},
   "outputs": [],
   "source": [
    "road_surface = road_surface[['ACCIDENT_NO','SURFACE_COND','Surface Cond Desc']]"
   ]
  },
  {
   "cell_type": "code",
   "execution_count": null,
   "id": "8dcaffd6-a739-4dd3-b47f-d9effd3aa8e3",
   "metadata": {},
   "outputs": [],
   "source": [
    "vehicle_filtered.columns"
   ]
  },
  {
   "cell_type": "code",
   "execution_count": null,
   "id": "5a1b166e-a6c3-4128-95a8-2b857bad1334",
   "metadata": {},
   "outputs": [],
   "source": [
    "vehicle_filtered = vehicle_filtered[['ACCIDENT_NO','VEHICLE_BODY_STYLE','TOTAL_NO_OCCUPANTS','VEHICLE_YEARS_OLD', 'LAMPS']]"
   ]
  },
  {
   "cell_type": "code",
   "execution_count": null,
   "id": "2d6d51cb-2cdd-41e4-ab9f-7487dfc04b7e",
   "metadata": {},
   "outputs": [],
   "source": [
    "vehicle_filtered['TOTAL_NO_OCCUPANTS'].value_counts()"
   ]
  },
  {
   "cell_type": "code",
   "execution_count": null,
   "id": "90ab0c19-d821-4415-ab89-d578346989b1",
   "metadata": {},
   "outputs": [],
   "source": [
    "vehicle_filtered.loc[vehicle_filtered['TOTAL_NO_OCCUPANTS']>20]"
   ]
  },
  {
   "cell_type": "code",
   "execution_count": null,
   "id": "262ea599-ae9a-44b4-830a-9acfe2024adb",
   "metadata": {},
   "outputs": [],
   "source": [
    "#Going to Merge and Have one row Per Driver, this will have multiple rows per Incident\n",
    "\n",
    "merged_data = drivers.merge(accident_filtered, on='ACCIDENT_NO', how='inner').merge(road_surface, on='ACCIDENT_NO', how='inner').merge(vehicle_filtered, on='ACCIDENT_NO', how='inner')\n",
    "merged_data"
   ]
  },
  {
   "cell_type": "code",
   "execution_count": null,
   "id": "8f5c5271-ad39-4604-9e0e-06d339ede55c",
   "metadata": {},
   "outputs": [],
   "source": [
    "merged_data.columns"
   ]
  },
  {
   "cell_type": "code",
   "execution_count": null,
   "id": "30e5b37c-bb3a-43fc-9a6d-170d19f34f4b",
   "metadata": {},
   "outputs": [],
   "source": [
    "merged_data = merged_data[merged_data['AGE'] > 0]"
   ]
  },
  {
   "cell_type": "code",
   "execution_count": null,
   "id": "d1484745-5fdd-45d5-ad99-e84ba3418201",
   "metadata": {},
   "outputs": [],
   "source": [
    "merged_data['LAMPS'].value_counts()"
   ]
  },
  {
   "cell_type": "code",
   "execution_count": null,
   "id": "182d640b-cd2c-4a3e-ac3c-a870793b8d7c",
   "metadata": {},
   "outputs": [],
   "source": [
    "merged_data.to_pickle('crash_processed_data.pkl')\n"
   ]
  },
  {
   "cell_type": "code",
   "execution_count": null,
   "id": "2aa06f4e-d30c-455e-84aa-4a7ec1b422fd",
   "metadata": {},
   "outputs": [],
   "source": [
    "drivers['HELMET_BELT_WORN'].value_counts()"
   ]
  },
  {
   "cell_type": "code",
   "execution_count": null,
   "id": "9c403110-e599-44f2-9055-632d5d3a7c20",
   "metadata": {},
   "outputs": [],
   "source": [
    "vehicle.loc[vehicle['LAMPS']==9,'VEHICLE_BODY_STYLE'].value_counts()"
   ]
  },
  {
   "cell_type": "code",
   "execution_count": null,
   "id": "00fda388-ce2d-4069-9812-83a95b5a4470",
   "metadata": {},
   "outputs": [],
   "source": []
  }
 ],
 "metadata": {
  "kernelspec": {
   "display_name": "Python 3 (ipykernel)",
   "language": "python",
   "name": "python3"
  },
  "language_info": {
   "codemirror_mode": {
    "name": "ipython",
    "version": 3
   },
   "file_extension": ".py",
   "mimetype": "text/x-python",
   "name": "python",
   "nbconvert_exporter": "python",
   "pygments_lexer": "ipython3",
   "version": "3.11.4"
  }
 },
 "nbformat": 4,
 "nbformat_minor": 5
}
